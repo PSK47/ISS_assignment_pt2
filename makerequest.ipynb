{
  "nbformat": 4,
  "nbformat_minor": 0,
  "metadata": {
    "colab": {
      "provenance": []
    },
    "kernelspec": {
      "name": "python3",
      "display_name": "Python 3"
    },
    "language_info": {
      "name": "python"
    }
  },
  "cells": [
    {
      "cell_type": "code",
      "execution_count": 1,
      "metadata": {
        "colab": {
          "base_uri": "https://localhost:8080/"
        },
        "id": "tSaD_6mFAHxU",
        "outputId": "20082840-33e7-4215-85f8-96cfbe1afa8f"
      },
      "outputs": [
        {
          "output_type": "stream",
          "name": "stdout",
          "text": [
            " * Serving Flask app '__main__'\n",
            " * Debug mode: off\n"
          ]
        },
        {
          "output_type": "stream",
          "name": "stderr",
          "text": [
            "INFO:werkzeug:\u001b[31m\u001b[1mWARNING: This is a development server. Do not use it in a production deployment. Use a production WSGI server instead.\u001b[0m\n",
            " * Running on all addresses (0.0.0.0)\n",
            " * Running on http://127.0.0.1:5000\n",
            " * Running on http://172.28.0.12:5000\n",
            "INFO:werkzeug:\u001b[33mPress CTRL+C to quit\u001b[0m\n"
          ]
        }
      ],
      "source": [
        "from flask import Flask, request, jsonify\n",
        "from threading import Thread\n",
        "\n",
        "app = Flask(__name__)\n",
        "\n",
        "@app.route('/api/resource', methods=['POST'])\n",
        "def handle_post_request():\n",
        "    data = request.get_json()\n",
        "    return jsonify(data)\n",
        "\n",
        "def run_flask_app():\n",
        "    app.run(host='0.0.0.0', port=5000)\n",
        "\n",
        "# Start Flask app in a separate thread\n",
        "flask_thread = Thread(target=run_flask_app)\n",
        "flask_thread.start()"
      ]
    },
    {
      "cell_type": "code",
      "source": [
        "import requests\n",
        "import time\n",
        "\n",
        "# Wait for the Flask app to start\n",
        "time.sleep(2)\n",
        "\n",
        "url = \"http://localhost:5000/api/resource\"\n",
        "input_json = {\n",
        "    \"level1_key1\": \"value1\",\n",
        "    \"level1_key2\": {\n",
        "        \"level2_key1\": \"value2\",\n",
        "        \"level2_key2\": \"value3\"\n",
        "    }\n",
        "}\n",
        "\n",
        "response = requests.post(url, json=input_json)\n",
        "\n",
        "print(response.status_code)\n",
        "print(response.json())"
      ],
      "metadata": {
        "colab": {
          "base_uri": "https://localhost:8080/"
        },
        "id": "4KazLC62BMip",
        "outputId": "e3794c8a-e193-4194-e00d-35b29515213f"
      },
      "execution_count": 2,
      "outputs": [
        {
          "output_type": "stream",
          "name": "stderr",
          "text": [
            "INFO:werkzeug:127.0.0.1 - - [07/Jan/2024 17:42:44] \"POST /api/resource HTTP/1.1\" 200 -\n"
          ]
        },
        {
          "output_type": "stream",
          "name": "stdout",
          "text": [
            "200\n",
            "{'level1_key1': 'value1', 'level1_key2': {'level2_key1': 'value2', 'level2_key2': 'value3'}}\n"
          ]
        }
      ]
    }
  ]
}